{
  "nbformat": 4,
  "nbformat_minor": 0,
  "metadata": {
    "colab": {
      "provenance": []
    },
    "kernelspec": {
      "name": "python3",
      "display_name": "Python 3"
    },
    "language_info": {
      "name": "python"
    }
  },
  "cells": [
    {
      "cell_type": "code",
      "execution_count": null,
      "metadata": {
        "id": "YeVc9rtMG22w"
      },
      "outputs": [],
      "source": [
        "import matplotlib.pyplot as plt\n",
        "import numpy as np\n",
        "import os\n",
        "import tensorflow as tf\n",
        "print(tf.__version__)"
      ]
    },
    {
      "cell_type": "code",
      "source": [
        "!pip install -U -q PyDrive\n",
        "from pydrive.auth import GoogleAuth\n",
        "from pydrive.drive import GoogleDrive\n",
        "from google.colab import auth\n",
        "from oauth2client.client import GoogleCredentials\n",
        "auth.authenticate_user()\n",
        "gauth = GoogleAuth()\n",
        "gauth.credentials = GoogleCredentials.get_application_default()\n",
        "drive = GoogleDrive(gauth)\n",
        "fid = drive.ListFile({'q':\"title='Final_datateset_for_Image.zip'\"}).GetList()[0]['id']\n",
        "f = drive.CreateFile({'id': fid})\n",
        "f.GetContentFile('Final_datateset_for_Image.zip')\n",
        "f.keys()\n",
        "!unzip Final_datateset_for_Image.zip"
      ],
      "metadata": {
        "id": "YuqYJAbLN_GV"
      },
      "execution_count": null,
      "outputs": []
    },
    {
      "cell_type": "code",
      "source": [
        "from keras.preprocessing.image import ImageDataGenerator\n",
        "from tensorflow.keras.preprocessing import image\n",
        "from tensorflow import keras\n",
        "from tensorflow.keras import layers\n",
        "from tensorflow.keras.layers import Conv2D,Flatten,Dense,MaxPool2D,BatchNormalization,GlobalAveragePooling2D\n",
        "from tensorflow.keras.applications.resnet50 import preprocess_input,decode_predictions\n",
        "from tensorflow.keras.applications.resnet50 import ResNet50\n",
        "from keras.models import Model\n",
        "from keras.layers.serialization import activation\n",
        "import numpy as np\n",
        "import random as rn"
      ],
      "metadata": {
        "id": "dN11AYAXN_Iu"
      },
      "execution_count": null,
      "outputs": []
    },
    {
      "cell_type": "code",
      "source": [
        "train_dir = '/content/Final datateset for Image/train'  \n",
        "validation_dir = '/content/Final datateset for Image/validation'"
      ],
      "metadata": {
        "id": "Jq4GtsU5N_LG"
      },
      "execution_count": null,
      "outputs": []
    },
    {
      "cell_type": "code",
      "source": [
        "BATCH_SIZE = 50\n",
        "IMG_SIZE = (224, 224)\n",
        "no_classes = 13"
      ],
      "metadata": {
        "id": "GwgPIOMeN_Of"
      },
      "execution_count": null,
      "outputs": []
    },
    {
      "cell_type": "code",
      "source": [
        "train_dataset = tf.keras.utils.image_dataset_from_directory(train_dir,shuffle=True,batch_size=BATCH_SIZE,image_size=IMG_SIZE)\n",
        "\n",
        "validation_dataset = tf.keras.utils.image_dataset_from_directory(validation_dir,shuffle=True,batch_size=BATCH_SIZE,image_size=IMG_SIZE)"
      ],
      "metadata": {
        "id": "5VqUTzzoQGEm"
      },
      "execution_count": null,
      "outputs": []
    },
    {
      "cell_type": "code",
      "source": [
        "class_names = train_dataset.class_names\n",
        "print(class_names)"
      ],
      "metadata": {
        "id": "KD3F1vKJQGH2"
      },
      "execution_count": null,
      "outputs": []
    },
    {
      "cell_type": "code",
      "source": [
        "#visulized some random Image With their Label\n",
        "plt.figure(figsize=(10, 10))\n",
        "for images, labels in train_dataset.take(1):\n",
        "  for i in range(12):\n",
        "    ax = plt.subplot(5, 4, i + 1)\n",
        "    plt.imshow(images[i].numpy().astype(\"uint8\"))\n",
        "    plt.title(class_names[labels[i]])\n",
        "    plt.axis(\"off\")"
      ],
      "metadata": {
        "id": "MH3a4oBsRjbr"
      },
      "execution_count": null,
      "outputs": []
    },
    {
      "cell_type": "code",
      "source": [
        "# preprocessing\n",
        "\n",
        "train_datagen = ImageDataGenerator(preprocessing_function=preprocess_input,\n",
        "                                   shear_range=0.2,\n",
        "                                   zoom_range=0.2,\n",
        "                                   horizontal_flip=True,\n",
        "                                   validation_split=0.4)\n",
        "\n",
        "train_generator = train_datagen.flow_from_directory(train_dir,\n",
        "                                                    target_size=(224,224),\n",
        "                                                    batch_size=50,\n",
        "                                                    class_mode ='categorical',\n",
        "                                                    subset='training')"
      ],
      "metadata": {
        "id": "nkqzKrd1RjfD"
      },
      "execution_count": null,
      "outputs": []
    },
    {
      "cell_type": "code",
      "source": [
        "test_generator = train_datagen.flow_from_directory(validation_dir,\n",
        "                                                   target_size=(224,224),\n",
        "                                                   batch_size=50,\n",
        "                                                   class_mode='categorical',\n",
        "                                                   subset='validation')"
      ],
      "metadata": {
        "id": "RY2fhvsvRniX"
      },
      "execution_count": null,
      "outputs": []
    },
    {
      "cell_type": "code",
      "source": [
        "# Build  RESNET50 Model\n",
        "num_classes = 13\n",
        "\n",
        "base_model = ResNet50(include_top= False, weights= 'imagenet')\n",
        "\n",
        "x= base_model.output\n",
        "x= GlobalAveragePooling2D()(x)\n",
        "x= Dense(1024, activation='relu')(x)\n",
        "predictions = Dense(num_classes, activation='softmax')(x)\n",
        "model = Model(inputs =base_model.input,outputs=predictions)"
      ],
      "metadata": {
        "id": "6ortottRRxdF"
      },
      "execution_count": null,
      "outputs": []
    },
    {
      "cell_type": "code",
      "source": [
        "for layer in base_model.layers:\n",
        "  layer.trainable = True\n",
        "\n",
        "model.compile(optimizer='adam', loss='categorical_crossentropy', metrics=['accuracy'])"
      ],
      "metadata": {
        "id": "s1RtByWkRxgk"
      },
      "execution_count": null,
      "outputs": []
    },
    {
      "cell_type": "code",
      "source": [
        "history = model.fit(train_generator,epochs=25)"
      ],
      "metadata": {
        "id": "hGG7J9w4Rnt5"
      },
      "execution_count": null,
      "outputs": []
    },
    {
      "cell_type": "code",
      "source": [
        "plt.plot(history.history['accuracy'])\n",
        "plt.xlabel('Epoch')\n",
        "plt.ylabel('Accuracy')\n",
        "print(\"Accuracy: \",max(history.history['accuracy']))\n",
        "plt.show()"
      ],
      "metadata": {
        "id": "4Jcypd8hSKEz"
      },
      "execution_count": null,
      "outputs": []
    },
    {
      "cell_type": "code",
      "source": [
        "#Testing\n",
        "\n",
        "from tensorflow.keras.preprocessing import image\n",
        "import numpy as np\n",
        "\n",
        "img_pred=image.load_img(\"/content/Final datateset for Image/validation/meghna/32.jpg\",target_size=(224,224))\n",
        "\n",
        "img_pred = np.expand_dims(img_pred, axis=0)\n",
        "rslt = model.predict(img_pred)\n",
        "\n",
        "print(rslt)"
      ],
      "metadata": {
        "id": "IwVkaNnxSKGz"
      },
      "execution_count": null,
      "outputs": []
    },
    {
      "cell_type": "code",
      "source": [
        "if rslt[0][0]>rslt[0][1]:\n",
        "  prediction = \"Meghna\"\n",
        "\n",
        "else:\n",
        "  prediction = \"Rafat\"\n",
        "\n",
        "\n",
        "print(prediction)"
      ],
      "metadata": {
        "id": "dv-cCREoSKKV"
      },
      "execution_count": null,
      "outputs": []
    }
  ]
}
